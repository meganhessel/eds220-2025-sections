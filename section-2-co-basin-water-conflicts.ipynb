{
 "cells": [
  {
   "cell_type": "markdown",
   "id": "c0429b27-e246-402a-bea0-1f138e175189",
   "metadata": {},
   "source": [
    "# Water conflicts in the Colorado River Basin\n",
    "## Week 2 - Discussion section\n",
    "\n",
    "This discussion section will guide you through exploring data about water-related conflicts at the Colorado River Basin using data from the U.S. Geological Survey (USGS). In this discussion section, you will:\n",
    "\n",
    "Practice version control using git via the terminal\n",
    "Use methods to work with pandas.Series of strings using the .str accessor\n",
    "Practice method chaining"
   ]
  },
  {
   "cell_type": "markdown",
   "id": "8a4aeb19-3055-4ab6-8699-b0f8abfd14ab",
   "metadata": {},
   "source": [
    "## 1. Archieve exploration \n",
    "\n",
    "1) Where was the data collected from? Colorado River Basin\n",
    "\n",
    "2) During what time frame were the observations in the dataset collected? - Start Date: 2005-01-01... End Date: 2021-12-31\n",
    "\n",
    "3) What was the author’s perceived value of this dataset? - To \"catalogue and understand water-related conflicts in the Colorado River Basin\" "
   ]
  },
  {
   "cell_type": "markdown",
   "id": "4509263a-16e0-45c2-88ff-f8df68e93f92",
   "metadata": {},
   "source": [
    "Describe: Data about the Colorado River Basin. \n",
    "\n",
    "Citation: Holloman, D.V., Hines, M.K., and Zoanni, D.K., 2023, Coded Water Conflict and Crisis Events in the Colorado River Basin, Derived from LexisNexis search 2005-2021: U.S. Geological Survey data release, https://doi.org/10.5066/P9X6WR7J.\n",
    "\n",
    "Link: https://www.sciencebase.gov/catalog/item/63acac09d34e92aad3ca1480 "
   ]
  },
  {
   "cell_type": "markdown",
   "id": "3a5c8733-d3b2-4d8a-8a95-c3d02dd52f81",
   "metadata": {
    "tags": []
   },
   "source": [
    "## 2. Data Loading "
   ]
  },
  {
   "cell_type": "code",
   "execution_count": 19,
   "id": "826cf36b-0cc0-434a-80d1-c94d18c9f644",
   "metadata": {
    "tags": []
   },
   "outputs": [],
   "source": [
    "import pandas as pd\n",
    "import numpy as np\n",
    "\n",
    "df = pd.read_csv('data/CO_Basin_Water_Conflict.csv')"
   ]
  },
  {
   "cell_type": "markdown",
   "id": "588472f3-979b-4d50-bde7-0fdcbcb83c76",
   "metadata": {},
   "source": [
    "## 3. Preliminary data exploration\n"
   ]
  },
  {
   "cell_type": "code",
   "execution_count": 9,
   "id": "852109e6-f322-4136-b2d4-25228c03eb91",
   "metadata": {
    "tags": []
   },
   "outputs": [
    {
     "data": {
      "text/plain": [
       "Index(['Event', 'Search Source', 'Newspaper', 'Article Title', 'Duplicate',\n",
       "       'Report Date', 'Report Year', 'Event Date', 'Event Day', 'Event Month',\n",
       "       'Event Year', 'Conflict Present', 'Crisis Present', 'Basin', 'HUC6',\n",
       "       'HUC2', 'Place', 'County', 'County FIPS', 'State', 'State FIPS',\n",
       "       'Urban or Rural', 'Issue Type', 'Event Summary', 'Stakeholders',\n",
       "       'Intensity Value', 'Comments', 'Related Observation Themes',\n",
       "       'Article Text Search - water quality',\n",
       "       'Article Text Search - invasive species',\n",
       "       'Article Text Search - conservation', 'Article Text Search - drought',\n",
       "       'Article Text Search - flood',\n",
       "       'Article Text Search - ground water depletion',\n",
       "       'Article Text Search - depletion',\n",
       "       'Article Text Search - infrastructure',\n",
       "       'Article Text Search - fish passage',\n",
       "       'Article Text Search - instream water rights',\n",
       "       'Article Text Search - water rights',\n",
       "       'Article Text Search - intergovernmental',\n",
       "       'Article Text Search - water transfers',\n",
       "       'Article Text Search - navigation', 'Article Text Search - fish',\n",
       "       'Article Text Search - invasive', 'Article Text Search - diversion',\n",
       "       'Article Text Search - water diversion',\n",
       "       'Article Text Search - instream', 'Article Text Search - aquatic'],\n",
       "      dtype='object')"
      ]
     },
     "execution_count": 9,
     "metadata": {},
     "output_type": "execute_result"
    }
   ],
   "source": [
    "# Display all columns in the df\n",
    "\n",
    "df.columns"
   ]
  },
  {
   "cell_type": "code",
   "execution_count": 10,
   "id": "c3f162c9-ef6d-4793-b2fe-a2243c48ce49",
   "metadata": {
    "tags": []
   },
   "outputs": [],
   "source": [
    "# Using pandas methods, obtain preliminary information and explore this data frame in at least four different ways.\n",
    "\n",
    "#df.columns\n",
    "#df.info()\n",
    "#df.shape\n",
    "#df.nunique()"
   ]
  },
  {
   "cell_type": "markdown",
   "id": "ce871841-f7bf-4f77-9754-ccd3fb030bbf",
   "metadata": {},
   "source": [
    "## 4. Location column description "
   ]
  },
  {
   "cell_type": "code",
   "execution_count": 18,
   "id": "a24311b8-5ca8-4076-9a87-0d9797fbc1a6",
   "metadata": {
    "tags": []
   },
   "outputs": [
    {
     "name": "stdout",
     "output_type": "stream",
     "text": [
      "['CO' 'UT' nan 'AZ' 'OH; UT' 'AZ; CO; NM; UT' 'CA' 'AZ; UT' 'AZ; NV'\n",
      " 'CO; UT; WY; NM' 'AZ; CA' 'UT; AZ' 'CO; WY' 'NV; AZ' 'CO; AZ'\n",
      " 'AZ; CA; CO; NV; NM; UT; WY' 'AZ; CA; NV' 'NV' 'NM' 'UT; CO; WY'\n",
      " 'CA; NV; AZ' 'AZ; NM' 'WY; UT; CO' 'TX']\n"
     ]
    }
   ],
   "source": [
    "df['Place'].unique()\n",
    "print(df['State'].unique())"
   ]
  },
  {
   "cell_type": "markdown",
   "id": "7c9647c8-168e-4ab8-beef-a5582bdadcb8",
   "metadata": {},
   "source": [
    "## 5. String Accessor for pandas.series"
   ]
  },
  {
   "cell_type": "code",
   "execution_count": 46,
   "id": "b3738b60-9f29-4f94-971e-eab7758215d0",
   "metadata": {
    "tags": []
   },
   "outputs": [
    {
     "data": {
      "text/plain": [
       "array(['CO', 'AZ', 'OH', 'UT', 'CA', 'NV', 'WY', 'NM'], dtype=object)"
      ]
     },
     "execution_count": 46,
     "metadata": {},
     "output_type": "execute_result"
    }
   ],
   "source": [
    "df_split = (df['State'] # select just state \n",
    "     .loc[df['Conflict Present'] == 'Y']\n",
    "     .str.split(';', expand = True)  # Split state column via \";\" \n",
    "     .stack()  # Stake new states \n",
    "    .str.strip())  # Remove all whitespace "
   ]
  },
  {
   "cell_type": "markdown",
   "id": "6d36590c-f4da-424b-b4dd-ff12aabd669f",
   "metadata": {},
   "source": [
    "## 6. Examine state codes "
   ]
  },
  {
   "cell_type": "markdown",
   "id": "8d9e8468-b281-444d-9393-9a9614b6d520",
   "metadata": {
    "tags": []
   },
   "source": [
    "### Find Unique state Codes "
   ]
  },
  {
   "cell_type": "code",
   "execution_count": 116,
   "id": "1203e37d-56e8-4817-bb60-96de4aa5fef2",
   "metadata": {
    "tags": []
   },
   "outputs": [
    {
     "data": {
      "text/plain": [
       "array(['CO', 'AZ', 'OH', 'UT', 'CA', 'NV', 'WY', 'NM'], dtype=object)"
      ]
     },
     "execution_count": 116,
     "metadata": {},
     "output_type": "execute_result"
    }
   ],
   "source": [
    "df_split.unique()"
   ]
  },
  {
   "cell_type": "markdown",
   "id": "475d2110-4061-47ed-9e44-e44100061052",
   "metadata": {},
   "source": [
    "### BONUS: How many articles mention each state? \n"
   ]
  },
  {
   "cell_type": "code",
   "execution_count": 122,
   "id": "2d50fa97-f346-4765-be80-b14b45e7ccf4",
   "metadata": {
    "collapsed": true,
    "jupyter": {
     "outputs_hidden": true
    },
    "tags": []
   },
   "outputs": [
    {
     "name": "stdout",
     "output_type": "stream",
     "text": [
      "AZ    45\n",
      "UT    29\n",
      "CO    22\n",
      "NV    12\n",
      "NM    10\n",
      "CA     7\n",
      "WY     6\n",
      "OH     1\n",
      "Name: count, dtype: int64\n"
     ]
    }
   ],
   "source": [
    "# Method 1: \n",
    "print(df_split.value_counts())"
   ]
  },
  {
   "cell_type": "code",
   "execution_count": 123,
   "id": "dad631e1-0fe1-42f9-8660-f74ba4417bcc",
   "metadata": {
    "collapsed": true,
    "jupyter": {
     "outputs_hidden": true
    },
    "tags": []
   },
   "outputs": [
    {
     "name": "stdout",
     "output_type": "stream",
     "text": [
      "state\n",
      "AZ    45\n",
      "CA     7\n",
      "CO    22\n",
      "NM    10\n",
      "NV    12\n",
      "OH     1\n",
      "UT    29\n",
      "WY     6\n",
      "Name: state, dtype: int64\n",
      "state\n",
      "AZ    45\n",
      "CA     7\n",
      "CO    22\n",
      "NM    10\n",
      "NV    12\n",
      "OH     1\n",
      "UT    29\n",
      "WY     6\n",
      "Name: count, dtype: int64\n"
     ]
    }
   ],
   "source": [
    "# Method 2 \n",
    "\n",
    "# Make it a data frame \n",
    "df_split_df = pd.DataFrame(df_split, columns = ['state'])\n",
    "\n",
    "# Counting state attributes \n",
    "print(df_split_df.groupby('state')['state'].count())\n",
    "\n",
    "print(df_split_df.groupby('state').value_counts())"
   ]
  },
  {
   "cell_type": "code",
   "execution_count": 125,
   "id": "58255302-3381-4b5f-b734-38748ee3fa94",
   "metadata": {
    "collapsed": true,
    "jupyter": {
     "outputs_hidden": true
    },
    "tags": []
   },
   "outputs": [
    {
     "name": "stdout",
     "output_type": "stream",
     "text": [
      "22\n",
      "45\n",
      "1\n",
      "29\n",
      "7\n"
     ]
    }
   ],
   "source": [
    "# Method 3 -  LONGER to get counts\n",
    "\n",
    "df_split_df[df_split_df['state'].str.contains('CO')].count()\n",
    "df_split_df[df_split_df['state'].str.contains('AZ')].count()\n",
    "df_split_df[df_split_df['state'].str.contains('OH')].count()\n",
    "\n",
    "\n",
    "print(df_split_df['state'].loc[df_split_df['state'] == 'CO'].count())\n",
    "print(df_split_df['state'].loc[df_split_df['state'] == 'AZ'].count())\n",
    "print(df_split_df['state'].loc[df_split_df['state'] == 'OH'].count())\n",
    "print(df_split_df['state'].loc[df_split_df['state'] == 'UT'].count())\n",
    "print(df_split_df['state'].loc[df_split_df['state'] == 'CA'].count())\n"
   ]
  },
  {
   "cell_type": "markdown",
   "id": "ef2201d9-0092-479f-bcbf-8a3d2eaf66ab",
   "metadata": {},
   "source": [
    "## 7. Brainstorm "
   ]
  },
  {
   "cell_type": "markdown",
   "id": "e4db116f-07eb-4bcc-a56c-aae59fcfffa2",
   "metadata": {
    "tags": []
   },
   "source": [
    "1. Select just the state column \n",
    "\n",
    "2. Filter for columns that only have conflicts \n",
    "\n",
    "3. Split the State column via the \";\" so there is only 1 state in 1 row \n",
    "\n",
    "4. Stack all the states ontop of eachother \n",
    "\n",
    "5. Remove all whitespace / extra spaces in the States \n",
    "\n",
    "6. Find unique state codes "
   ]
  }
 ],
 "metadata": {
  "kernelspec": {
   "display_name": "EDS220",
   "language": "python",
   "name": "eds220-env"
  },
  "language_info": {
   "codemirror_mode": {
    "name": "ipython",
    "version": 3
   },
   "file_extension": ".py",
   "mimetype": "text/x-python",
   "name": "python",
   "nbconvert_exporter": "python",
   "pygments_lexer": "ipython3",
   "version": "3.11.4"
  }
 },
 "nbformat": 4,
 "nbformat_minor": 5
}
