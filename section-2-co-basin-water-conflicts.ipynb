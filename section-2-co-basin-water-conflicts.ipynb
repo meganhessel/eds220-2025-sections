{
 "cells": [
  {
   "cell_type": "markdown",
   "id": "c0429b27-e246-402a-bea0-1f138e175189",
   "metadata": {},
   "source": [
    "# Water conflicts in the Colorado River Basin\n",
    "## Week 2 - Discussion section\n",
    "\n",
    "This discussion section will guide you through exploring data about water-related conflicts at the Colorado River Basin using data from the U.S. Geological Survey (USGS). In this discussion section, you will:\n",
    "\n",
    "Practice version control using git via the terminal\n",
    "Use methods to work with pandas.Series of strings using the .str accessor\n",
    "Practice method chaining"
   ]
  },
  {
   "cell_type": "markdown",
   "id": "8a4aeb19-3055-4ab6-8699-b0f8abfd14ab",
   "metadata": {},
   "source": [
    "### 1. Archieve exploration \n",
    "\n",
    "1) Where was the data collected from? Colorado River Basin\n",
    "\n",
    "2) During what time frame were the observations in the dataset collected? - Start Date: 2005-01-01... End Date: 2021-12-31\n",
    "\n",
    "3) What was the author’s perceived value of this dataset? - To \"catalogue and understand water-related conflicts in the Colorado River Basin\" "
   ]
  },
  {
   "cell_type": "markdown",
   "id": "4509263a-16e0-45c2-88ff-f8df68e93f92",
   "metadata": {},
   "source": [
    "Describe: Data about the Colorado River Basin. \n",
    "\n",
    "Citation: Holloman, D.V., Hines, M.K., and Zoanni, D.K., 2023, Coded Water Conflict and Crisis Events in the Colorado River Basin, Derived from LexisNexis search 2005-2021: U.S. Geological Survey data release, https://doi.org/10.5066/P9X6WR7J.\n",
    "\n",
    "Link: https://www.sciencebase.gov/catalog/item/63acac09d34e92aad3ca1480 "
   ]
  },
  {
   "cell_type": "markdown",
   "id": "3a5c8733-d3b2-4d8a-8a95-c3d02dd52f81",
   "metadata": {
    "tags": []
   },
   "source": [
    "## 2. Data Loading "
   ]
  },
  {
   "cell_type": "code",
   "execution_count": 2,
   "id": "826cf36b-0cc0-434a-80d1-c94d18c9f644",
   "metadata": {
    "tags": []
   },
   "outputs": [],
   "source": [
    "import pandas as pd\n",
    "\n",
    "df = pd.read_csv('data/CO_Basin_Water_Conflict.csv')"
   ]
  },
  {
   "cell_type": "markdown",
   "id": "588472f3-979b-4d50-bde7-0fdcbcb83c76",
   "metadata": {},
   "source": [
    "## 3. Preliminary data exploration\n"
   ]
  },
  {
   "cell_type": "code",
   "execution_count": 3,
   "id": "ed257e6f-633a-4fdf-98f4-862940b03a0a",
   "metadata": {
    "tags": []
   },
   "outputs": [
    {
     "data": {
      "text/plain": [
       "Event                                           268\n",
       "Search Source                                     6\n",
       "Newspaper                                        45\n",
       "Article Title                                   267\n",
       "Duplicate                                         2\n",
       "Report Date                                     235\n",
       "Report Year                                      18\n",
       "Event Date                                       52\n",
       "Event Day                                        12\n",
       "Event Month                                      12\n",
       "Event Year                                       21\n",
       "Conflict Present                                  2\n",
       "Crisis Present                                    2\n",
       "Basin                                            25\n",
       "HUC6                                             22\n",
       "HUC2                                              7\n",
       "Place                                           135\n",
       "County                                            3\n",
       "County FIPS                                       3\n",
       "State                                            23\n",
       "State FIPS                                       19\n",
       "Urban or Rural                                    6\n",
       "Issue Type                                       19\n",
       "Event Summary                                   253\n",
       "Stakeholders                                    199\n",
       "Intensity Value                                  10\n",
       "Comments                                        184\n",
       "Related Observation Themes                       21\n",
       "Article Text Search - water quality              10\n",
       "Article Text Search - invasive species            2\n",
       "Article Text Search - conservation               15\n",
       "Article Text Search - drought                    19\n",
       "Article Text Search - flood                      10\n",
       "Article Text Search - ground water depletion      1\n",
       "Article Text Search - depletion                   2\n",
       "Article Text Search - infrastructure              9\n",
       "Article Text Search - fish passage                1\n",
       "Article Text Search - instream water rights       1\n",
       "Article Text Search - water rights               17\n",
       "Article Text Search - intergovernmental           2\n",
       "Article Text Search - water transfers             2\n",
       "Article Text Search - navigation                  2\n",
       "Article Text Search - fish                        8\n",
       "Article Text Search - invasive                    3\n",
       "Article Text Search - diversion                   6\n",
       "Article Text Search - water diversion             2\n",
       "Article Text Search - instream                    5\n",
       "Article Text Search - aquatic                     5\n",
       "dtype: int64"
      ]
     },
     "execution_count": 3,
     "metadata": {},
     "output_type": "execute_result"
    }
   ],
   "source": [
    "#df.columns\n",
    "#df.info()\n",
    "#df.shape\n",
    "df.nunique()"
   ]
  },
  {
   "cell_type": "code",
   "execution_count": 4,
   "id": "852109e6-f322-4136-b2d4-25228c03eb91",
   "metadata": {},
   "outputs": [
    {
     "data": {
      "text/plain": [
       "Index(['Event', 'Search Source', 'Newspaper', 'Article Title', 'Duplicate',\n",
       "       'Report Date', 'Report Year', 'Event Date', 'Event Day', 'Event Month',\n",
       "       'Event Year', 'Conflict Present', 'Crisis Present', 'Basin', 'HUC6',\n",
       "       'HUC2', 'Place', 'County', 'County FIPS', 'State', 'State FIPS',\n",
       "       'Urban or Rural', 'Issue Type', 'Event Summary', 'Stakeholders',\n",
       "       'Intensity Value', 'Comments', 'Related Observation Themes',\n",
       "       'Article Text Search - water quality',\n",
       "       'Article Text Search - invasive species',\n",
       "       'Article Text Search - conservation', 'Article Text Search - drought',\n",
       "       'Article Text Search - flood',\n",
       "       'Article Text Search - ground water depletion',\n",
       "       'Article Text Search - depletion',\n",
       "       'Article Text Search - infrastructure',\n",
       "       'Article Text Search - fish passage',\n",
       "       'Article Text Search - instream water rights',\n",
       "       'Article Text Search - water rights',\n",
       "       'Article Text Search - intergovernmental',\n",
       "       'Article Text Search - water transfers',\n",
       "       'Article Text Search - navigation', 'Article Text Search - fish',\n",
       "       'Article Text Search - invasive', 'Article Text Search - diversion',\n",
       "       'Article Text Search - water diversion',\n",
       "       'Article Text Search - instream', 'Article Text Search - aquatic'],\n",
       "      dtype='object')"
      ]
     },
     "execution_count": 4,
     "metadata": {},
     "output_type": "execute_result"
    }
   ],
   "source": [
    "# Set pandas to display all columns in the data frame.\n",
    "\n",
    "df.columns"
   ]
  }
 ],
 "metadata": {
  "kernelspec": {
   "display_name": "EDS220",
   "language": "python",
   "name": "eds220-env"
  },
  "language_info": {
   "codemirror_mode": {
    "name": "ipython",
    "version": 3
   },
   "file_extension": ".py",
   "mimetype": "text/x-python",
   "name": "python",
   "nbconvert_exporter": "python",
   "pygments_lexer": "ipython3",
   "version": "3.11.4"
  }
 },
 "nbformat": 4,
 "nbformat_minor": 5
}
