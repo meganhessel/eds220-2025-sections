{
 "cells": [
  {
   "cell_type": "markdown",
   "id": "c0429b27-e246-402a-bea0-1f138e175189",
   "metadata": {},
   "source": [
    "# Water conflicts in the Colorado River Basin\n",
    "## Week 2 - Discussion section\n",
    "\n",
    "This discussion section will guide you through exploring data about water-related conflicts at the Colorado River Basin using data from the U.S. Geological Survey (USGS). In this discussion section, you will:\n",
    "\n",
    "Practice version control using git via the terminal\n",
    "Use methods to work with pandas.Series of strings using the .str accessor\n",
    "Practice method chaining"
   ]
  },
  {
   "cell_type": "markdown",
   "id": "8a4aeb19-3055-4ab6-8699-b0f8abfd14ab",
   "metadata": {},
   "source": [
    "### 1. Archieve exploration \n",
    "\n",
    "1) Where was the data collected from? Colorado River Basin\n",
    "\n",
    "2) During what time frame were the observations in the dataset collected? - Start Date: 2005-01-01... End Date: 2021-12-31\n",
    "\n",
    "3) What was the author’s perceived value of this dataset? - To \"catalogue and understand water-related conflicts in the Colorado River Basin\" "
   ]
  },
  {
   "cell_type": "markdown",
   "id": "4509263a-16e0-45c2-88ff-f8df68e93f92",
   "metadata": {},
   "source": [
    "Decsiotion: \n",
    "\n",
    "Citation: Holloman, D.V., Hines, M.K., and Zoanni, D.K., 2023, Coded Water Conflict and Crisis Events in the Colorado River Basin, Derived from LexisNexis search 2005-2021: U.S. Geological Survey data release, https://doi.org/10.5066/P9X6WR7J.\n",
    "\n",
    "Link: https://www.sciencebase.gov/catalog/item/63acac09d34e92aad3ca1480 "
   ]
  }
 ],
 "metadata": {
  "kernelspec": {
   "display_name": "EDS220",
   "language": "python",
   "name": "eds220-env"
  },
  "language_info": {
   "codemirror_mode": {
    "name": "ipython",
    "version": 3
   },
   "file_extension": ".py",
   "mimetype": "text/x-python",
   "name": "python",
   "nbconvert_exporter": "python",
   "pygments_lexer": "ipython3",
   "version": "3.11.4"
  }
 },
 "nbformat": 4,
 "nbformat_minor": 5
}
