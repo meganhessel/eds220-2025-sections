{
 "cells": [
  {
   "cell_type": "markdown",
   "id": "2b3393e3-9714-4b9f-8272-18bcd318bd9f",
   "metadata": {
    "tags": []
   },
   "source": [
    "![Cutie Hare](https://upload.wikimedia.org/wikipedia/commons/thumb/8/8a/SNOWSHOE_HARE_%28Lepus_americanus%29_%285-28-2015%29_quoddy_head%2C_washington_co%2C_maine_-01_%2818988734889%29.jpg/1452px-SNOWSHOE_HARE_%28Lepus_americanus%29_%285-28-2015%29_quoddy_head%2C_washington_co%2C_maine_-01_%2818988734889%29.jpg?20170313021652)\n",
    "\n",
    "\n",
    "This file is made available under the Creative Commons CC0 1.0 Universal Public Domain Dedication.\n",
    "The person who associated a work with this deed has dedicated the work to the public domain by waiving all of their rights to the work worldwide under copyright law, including all related and neighboring rights, to the extent allowed by law. You can copy, modify, distribute and perform the work, even for commercial purposes, all without asking permission."
   ]
  },
  {
   "cell_type": "code",
   "execution_count": 13,
   "id": "52e51e89-b894-4d98-87dd-17b766104f0e",
   "metadata": {
    "tags": []
   },
   "outputs": [],
   "source": [
    "import pandas as pd\n",
    "import numpy as np"
   ]
  },
  {
   "cell_type": "code",
   "execution_count": 12,
   "id": "54fd255b-d221-4289-b840-9a866fb864d3",
   "metadata": {
    "tags": []
   },
   "outputs": [],
   "source": [
    "URL = \"https://pasta.lternet.edu/package/data/eml/knb-lter-bnz/55/22/f01f5d71be949b8c700b6ecd1c42c701\"\n",
    "hares = pd.read_csv(URL)"
   ]
  },
  {
   "cell_type": "code",
   "execution_count": 48,
   "id": "4d71fde4-ab2d-4e95-82e3-0e8a9f34cd69",
   "metadata": {
    "tags": []
   },
   "outputs": [
    {
     "data": {
      "text/plain": [
       "date           object\n",
       "time           object\n",
       "grid           object\n",
       "trap           object\n",
       "l_ear          object\n",
       "r_ear          object\n",
       "sex            object\n",
       "age            object\n",
       "weight        float64\n",
       "hindft        float64\n",
       "notes          object\n",
       "b_key         float64\n",
       "session_id    float64\n",
       "study          object\n",
       "dtype: object"
      ]
     },
     "execution_count": 48,
     "metadata": {},
     "output_type": "execute_result"
    }
   ],
   "source": [
    "hares.dtypes"
   ]
  },
  {
   "cell_type": "code",
   "execution_count": 35,
   "id": "b8332438-2de2-4e5c-9874-8c4e70779838",
   "metadata": {
    "tags": []
   },
   "outputs": [
    {
     "data": {
      "text/plain": [
       "60.0"
      ]
     },
     "execution_count": 35,
     "metadata": {},
     "output_type": "execute_result"
    }
   ],
   "source": [
    "hares.head()\n",
    "hares.shape\n",
    "hares.isnull().sum()\n",
    "hares['weight'].max() # 2365 \n",
    "hares['weight'].min() # 0 \n",
    "hares['hindft'].max() # 160\n",
    "hares['hindft'].min() #60"
   ]
  },
  {
   "cell_type": "code",
   "execution_count": 45,
   "id": "dc3fae9f-571b-466a-a9e9-f7c5c91cec58",
   "metadata": {
    "tags": []
   },
   "outputs": [
    {
     "data": {
      "text/plain": [
       "date            8/2/2000\n",
       "time                 NaN\n",
       "grid              bonrip\n",
       "trap                  4C\n",
       "l_ear                784\n",
       "r_ear                785\n",
       "sex                    F\n",
       "age                    J\n",
       "weight             830.0\n",
       "hindft             145.0\n",
       "notes                NaN\n",
       "b_key              673.0\n",
       "session_id          57.0\n",
       "study         Population\n",
       "Name: 375, dtype: object"
      ]
     },
     "execution_count": 45,
     "metadata": {},
     "output_type": "execute_result"
    }
   ],
   "source": [
    "# change the place where weight = 0 to an NA \n",
    "hares[hares['weight'] == 0] = np.nan"
   ]
  },
  {
   "cell_type": "code",
   "execution_count": 47,
   "id": "aef6628f-9ed3-4c63-bd33-d8c01a2bde81",
   "metadata": {
    "tags": []
   },
   "outputs": [
    {
     "data": {
      "text/plain": [
       "array([nan, 'J', 'A', 'a 1 yr.', 'a 3/4 yr.', 'a 1 yr', '1 yr', '1 yr.',\n",
       "       '2 yrs.', '2 yrs', 'a 2 yrs.', '2.25 yrs', '3.5 yrs.', '3 yrs.',\n",
       "       '2.5 yrs', '3.25 yrs.', 'A 1.5', '?', 'U', 'j', 'a', 'u', 'J 3/4',\n",
       "       'A 3/4', 'A 1/2', '3/4/2013', '1/4/2013', '1/2/2013', '1', '1.25',\n",
       "       '1.5'], dtype=object)"
      ]
     },
     "execution_count": 47,
     "metadata": {},
     "output_type": "execute_result"
    }
   ],
   "source": [
    "hares['age'].unique()"
   ]
  },
  {
   "cell_type": "code",
   "execution_count": 49,
   "id": "80c21fca-90e5-4570-ab90-0f436851f55f",
   "metadata": {
    "tags": []
   },
   "outputs": [
    {
     "data": {
      "text/plain": [
       "array([nan, 'M', 'F', '?', 'F?', 'M?', 'pf', 'm', 'f', 'f?', 'm?', 'f ',\n",
       "       'm '], dtype=object)"
      ]
     },
     "execution_count": 49,
     "metadata": {},
     "output_type": "execute_result"
    }
   ],
   "source": [
    "hares['sex'].unique()"
   ]
  },
  {
   "cell_type": "markdown",
   "id": "7bdbd05f-a40b-495a-a34c-3b8132d568bc",
   "metadata": {},
   "source": [
    "### Exploratory Question \n",
    "Why is the age and sex columns so messed up? "
   ]
  },
  {
   "cell_type": "markdown",
   "id": "881494a0-b9fe-47da-98a9-f50084a25efd",
   "metadata": {
    "tags": []
   },
   "source": [
    "## Detecting messy values"
   ]
  },
  {
   "cell_type": "markdown",
   "id": "078e735b-9473-4ee7-b98c-1e3e5d689f52",
   "metadata": {
    "tags": []
   },
   "source": [
    "### Table for allows sex values \n",
    "\n",
    "| Syntax      | Description   |\n",
    "| ----------- | ------------- |\n",
    "| m           | male          |\n",
    "| f           | female        |\n",
    "| m?          | Not confirmed |"
   ]
  },
  {
   "cell_type": "code",
   "execution_count": 62,
   "id": "fc565326-5505-439a-9262-59628db129c7",
   "metadata": {
    "tags": []
   },
   "outputs": [
    {
     "data": {
      "text/plain": [
       "<bound method Series.unique of sex\n",
       "F     1161\n",
       "M      730\n",
       "f      556\n",
       "m      515\n",
       "?       40\n",
       "F?      10\n",
       "f        4\n",
       "m        4\n",
       "f?       3\n",
       "M?       2\n",
       "m?       2\n",
       "pf       1\n",
       "Name: count, dtype: int64>"
      ]
     },
     "execution_count": 62,
     "metadata": {},
     "output_type": "execute_result"
    }
   ],
   "source": [
    "hares['sex'].value_counts().unique"
   ]
  },
  {
   "cell_type": "code",
   "execution_count": 65,
   "id": "717bee81-8996-4d1e-a7d5-7b0db761c475",
   "metadata": {
    "tags": []
   },
   "outputs": [
    {
     "data": {
      "text/plain": [
       "<bound method Series.unique of sex\n",
       "F      1161\n",
       "M       730\n",
       "f       556\n",
       "m       515\n",
       "NaN     352\n",
       "?        40\n",
       "F?       10\n",
       "f         4\n",
       "m         4\n",
       "f?        3\n",
       "M?        2\n",
       "m?        2\n",
       "pf        1\n",
       "Name: count, dtype: int64>"
      ]
     },
     "execution_count": 65,
     "metadata": {},
     "output_type": "execute_result"
    }
   ],
   "source": [
    "hares['sex'].value_counts(dropna = False).unique"
   ]
  },
  {
   "cell_type": "markdown",
   "id": "c8c4998a-3913-405b-bf38-1ac079d4c61e",
   "metadata": {},
   "source": [
    "### Discuss \n",
    "This column sucks. Citizian science = dif people recording data. People need a standarized way of discovering and inputing data. "
   ]
  },
  {
   "cell_type": "markdown",
   "id": "6daf7a62-17da-4a6e-81ae-e9ba0fdcc58e",
   "metadata": {},
   "source": [
    "### e \n",
    "Theres whitespace! Need to strip"
   ]
  },
  {
   "cell_type": "code",
   "execution_count": 89,
   "id": "c1337aad-b42c-465d-b4af-6075e472156a",
   "metadata": {
    "tags": []
   },
   "outputs": [],
   "source": [
    "hares['sex'] = hares['sex'].str.strip()\n",
    "hares['sex'] = hares['sex'].str.lower()\n",
    "hares[(hares['sex'] == \"?\") | (hares['sex'] == \"pd\") | (hares['sex'] == \"f?\") ] = np.nan\n"
   ]
  },
  {
   "cell_type": "code",
   "execution_count": 90,
   "id": "2a1a5d46-00ca-4fb0-85f7-3b9e42b2136e",
   "metadata": {
    "tags": []
   },
   "outputs": [
    {
     "data": {
      "text/plain": [
       "array([nan, 'm', 'f', 'm?'], dtype=object)"
      ]
     },
     "execution_count": 90,
     "metadata": {},
     "output_type": "execute_result"
    }
   ],
   "source": [
    "hares['sex'].unique()\n"
   ]
  },
  {
   "cell_type": "code",
   "execution_count": null,
   "id": "897015e1-6c81-49f2-80fc-e288e70391a8",
   "metadata": {},
   "outputs": [],
   "source": []
  }
 ],
 "metadata": {
  "kernelspec": {
   "display_name": "EDS220",
   "language": "python",
   "name": "eds220-env"
  },
  "language_info": {
   "codemirror_mode": {
    "name": "ipython",
    "version": 3
   },
   "file_extension": ".py",
   "mimetype": "text/x-python",
   "name": "python",
   "nbconvert_exporter": "python",
   "pygments_lexer": "ipython3",
   "version": "3.11.4"
  }
 },
 "nbformat": 4,
 "nbformat_minor": 5
}
